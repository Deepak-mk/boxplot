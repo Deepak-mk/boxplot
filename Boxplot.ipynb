{
 "cells": [
  {
   "cell_type": "code",
   "execution_count": 2,
   "metadata": {},
   "outputs": [],
   "source": [
    "import pandas as pd\n",
    "import matplotlib.pyplot as plt\n",
    "import seaborn as sns"
   ]
  },
  {
   "cell_type": "code",
   "execution_count": 3,
   "metadata": {},
   "outputs": [],
   "source": [
    "df = pd.read_excel('/Users/deepakkolekar/Documents/360DigiTMG/Blogs/Salary.xlsx')"
   ]
  },
  {
   "cell_type": "code",
   "execution_count": 4,
   "metadata": {},
   "outputs": [
    {
     "data": {
      "text/html": [
       "<div>\n",
       "<style scoped>\n",
       "    .dataframe tbody tr th:only-of-type {\n",
       "        vertical-align: middle;\n",
       "    }\n",
       "\n",
       "    .dataframe tbody tr th {\n",
       "        vertical-align: top;\n",
       "    }\n",
       "\n",
       "    .dataframe thead th {\n",
       "        text-align: right;\n",
       "    }\n",
       "</style>\n",
       "<table border=\"1\" class=\"dataframe\">\n",
       "  <thead>\n",
       "    <tr style=\"text-align: right;\">\n",
       "      <th></th>\n",
       "      <th>University</th>\n",
       "      <th>Program</th>\n",
       "      <th>Alumni</th>\n",
       "      <th>Year</th>\n",
       "      <th>Salaries</th>\n",
       "    </tr>\n",
       "  </thead>\n",
       "  <tbody>\n",
       "    <tr>\n",
       "      <td>0</td>\n",
       "      <td>ABC</td>\n",
       "      <td>MBA</td>\n",
       "      <td>1</td>\n",
       "      <td>2018</td>\n",
       "      <td>400000</td>\n",
       "    </tr>\n",
       "    <tr>\n",
       "      <td>1</td>\n",
       "      <td>ABC</td>\n",
       "      <td>MBA</td>\n",
       "      <td>2</td>\n",
       "      <td>2018</td>\n",
       "      <td>130000</td>\n",
       "    </tr>\n",
       "    <tr>\n",
       "      <td>2</td>\n",
       "      <td>ABC</td>\n",
       "      <td>MBA</td>\n",
       "      <td>3</td>\n",
       "      <td>2018</td>\n",
       "      <td>140000</td>\n",
       "    </tr>\n",
       "    <tr>\n",
       "      <td>3</td>\n",
       "      <td>ABC</td>\n",
       "      <td>MBA</td>\n",
       "      <td>4</td>\n",
       "      <td>2018</td>\n",
       "      <td>200000</td>\n",
       "    </tr>\n",
       "    <tr>\n",
       "      <td>4</td>\n",
       "      <td>ABC</td>\n",
       "      <td>MBA</td>\n",
       "      <td>5</td>\n",
       "      <td>2018</td>\n",
       "      <td>100000</td>\n",
       "    </tr>\n",
       "  </tbody>\n",
       "</table>\n",
       "</div>"
      ],
      "text/plain": [
       "  University Program  Alumni  Year  Salaries\n",
       "0        ABC     MBA       1  2018    400000\n",
       "1        ABC     MBA       2  2018    130000\n",
       "2        ABC     MBA       3  2018    140000\n",
       "3        ABC     MBA       4  2018    200000\n",
       "4        ABC     MBA       5  2018    100000"
      ]
     },
     "execution_count": 4,
     "metadata": {},
     "output_type": "execute_result"
    }
   ],
   "source": [
    "df.head()"
   ]
  },
  {
   "cell_type": "code",
   "execution_count": 5,
   "metadata": {},
   "outputs": [
    {
     "data": {
      "text/html": [
       "<div>\n",
       "<style scoped>\n",
       "    .dataframe tbody tr th:only-of-type {\n",
       "        vertical-align: middle;\n",
       "    }\n",
       "\n",
       "    .dataframe tbody tr th {\n",
       "        vertical-align: top;\n",
       "    }\n",
       "\n",
       "    .dataframe thead th {\n",
       "        text-align: right;\n",
       "    }\n",
       "</style>\n",
       "<table border=\"1\" class=\"dataframe\">\n",
       "  <thead>\n",
       "    <tr style=\"text-align: right;\">\n",
       "      <th></th>\n",
       "      <th>Alumni</th>\n",
       "      <th>Year</th>\n",
       "      <th>Salaries</th>\n",
       "    </tr>\n",
       "  </thead>\n",
       "  <tbody>\n",
       "    <tr>\n",
       "      <td>count</td>\n",
       "      <td>30.000000</td>\n",
       "      <td>30.0</td>\n",
       "      <td>30.000000</td>\n",
       "    </tr>\n",
       "    <tr>\n",
       "      <td>mean</td>\n",
       "      <td>15.500000</td>\n",
       "      <td>2018.0</td>\n",
       "      <td>153933.333333</td>\n",
       "    </tr>\n",
       "    <tr>\n",
       "      <td>std</td>\n",
       "      <td>8.803408</td>\n",
       "      <td>0.0</td>\n",
       "      <td>90342.617328</td>\n",
       "    </tr>\n",
       "    <tr>\n",
       "      <td>min</td>\n",
       "      <td>1.000000</td>\n",
       "      <td>2018.0</td>\n",
       "      <td>92000.000000</td>\n",
       "    </tr>\n",
       "    <tr>\n",
       "      <td>25%</td>\n",
       "      <td>8.250000</td>\n",
       "      <td>2018.0</td>\n",
       "      <td>102500.000000</td>\n",
       "    </tr>\n",
       "    <tr>\n",
       "      <td>50%</td>\n",
       "      <td>15.500000</td>\n",
       "      <td>2018.0</td>\n",
       "      <td>120000.000000</td>\n",
       "    </tr>\n",
       "    <tr>\n",
       "      <td>75%</td>\n",
       "      <td>22.750000</td>\n",
       "      <td>2018.0</td>\n",
       "      <td>140000.000000</td>\n",
       "    </tr>\n",
       "    <tr>\n",
       "      <td>max</td>\n",
       "      <td>30.000000</td>\n",
       "      <td>2018.0</td>\n",
       "      <td>450000.000000</td>\n",
       "    </tr>\n",
       "  </tbody>\n",
       "</table>\n",
       "</div>"
      ],
      "text/plain": [
       "          Alumni    Year       Salaries\n",
       "count  30.000000    30.0      30.000000\n",
       "mean   15.500000  2018.0  153933.333333\n",
       "std     8.803408     0.0   90342.617328\n",
       "min     1.000000  2018.0   92000.000000\n",
       "25%     8.250000  2018.0  102500.000000\n",
       "50%    15.500000  2018.0  120000.000000\n",
       "75%    22.750000  2018.0  140000.000000\n",
       "max    30.000000  2018.0  450000.000000"
      ]
     },
     "execution_count": 5,
     "metadata": {},
     "output_type": "execute_result"
    }
   ],
   "source": [
    "df.describe()"
   ]
  },
  {
   "cell_type": "code",
   "execution_count": 6,
   "metadata": {},
   "outputs": [
    {
     "name": "stdout",
     "output_type": "stream",
     "text": [
      "<class 'pandas.core.frame.DataFrame'>\n",
      "RangeIndex: 30 entries, 0 to 29\n",
      "Data columns (total 5 columns):\n",
      "University    30 non-null object\n",
      "Program       30 non-null object\n",
      "Alumni        30 non-null int64\n",
      "Year          30 non-null int64\n",
      "Salaries      30 non-null int64\n",
      "dtypes: int64(3), object(2)\n",
      "memory usage: 1.3+ KB\n"
     ]
    }
   ],
   "source": [
    "df.info()"
   ]
  },
  {
   "cell_type": "code",
   "execution_count": 7,
   "metadata": {},
   "outputs": [
    {
     "data": {
      "text/plain": [
       "<matplotlib.axes._subplots.AxesSubplot at 0x1a23ab3710>"
      ]
     },
     "execution_count": 7,
     "metadata": {},
     "output_type": "execute_result"
    },
    {
     "data": {
      "image/png": "[encoded data removed]",
      "text/plain": [
       "<Figure size 432x288 with 1 Axes>"
      ]
     },
     "metadata": {
      "needs_background": "light"
     },
     "output_type": "display_data"
    }
   ],
   "source": [
    "sns.boxplot(x='Salaries', data=df)"
   ]
  },
  {
   "cell_type": "code",
   "execution_count": 8,
   "metadata": {},
   "outputs": [
    {
     "data": {
      "text/plain": [
       "<matplotlib.axes._subplots.AxesSubplot at 0x1a24265c50>"
      ]
     },
     "execution_count": 8,
     "metadata": {},
     "output_type": "execute_result"
    },
    {
     "data": {
      "image/png": "[encoded data removed]",
      "text/plain": [
       "<Figure size 432x288 with 1 Axes>"
      ]
     },
     "metadata": {
      "needs_background": "light"
     },
     "output_type": "display_data"
    }
   ],
   "source": [
    "sns.boxplot(x='Salaries', data=df)\n",
    "sns.swarmplot(x='Salaries', data=df, color=\".25\" )"
   ]
  },
  {
   "cell_type": "code",
   "execution_count": 9,
   "metadata": {},
   "outputs": [
    {
     "name": "stdout",
     "output_type": "stream",
     "text": [
      "25th Percentile is: 102500.0\n",
      "75th Percentile is: 140000.0\n",
      "Inter Quartile Range is: 37500.0\n"
     ]
    }
   ],
   "source": [
    "Q1 = df.Salaries.quantile(0.25)\n",
    "Q3 = df.Salaries.quantile(0.75)\n",
    "IQR = Q3 - Q1\n",
    "print('25th Percentile is:',Q1)\n",
    "print('75th Percentile is:',Q3)\n",
    "print('Inter Quartile Range is:',IQR)"
   ]
  },
  {
   "cell_type": "code",
   "execution_count": 10,
   "metadata": {},
   "outputs": [],
   "source": [
    "Outliers = pd.Series((df.Salaries < (Q1 - 1.5 * IQR)) | (df.Salaries > (Q3 + 1.5 * IQR)))\n",
    "df['Outlier'] = Outliers\n",
    "df.to_csv('Outlier.csv', encoding = 'utf-8')"
   ]
  },
  {
   "cell_type": "code",
   "execution_count": 11,
   "metadata": {},
   "outputs": [
    {
     "data": {
      "text/plain": [
       "'/Users/deepakkolekar'"
      ]
     },
     "execution_count": 11,
     "metadata": {},
     "output_type": "execute_result"
    }
   ],
   "source": [
    "import os\n",
    "os.getcwd()"
   ]
  },
  {
   "cell_type": "code",
   "execution_count": 12,
   "metadata": {},
   "outputs": [
    {
     "data": {
      "text/plain": [
       "{'whiskers': [<matplotlib.lines.Line2D at 0x1a2442a790>,\n",
       "  <matplotlib.lines.Line2D at 0x1a24404950>],\n",
       " 'caps': [<matplotlib.lines.Line2D at 0x1a24404e50>,\n",
       "  <matplotlib.lines.Line2D at 0x1a24380590>],\n",
       " 'boxes': [<matplotlib.lines.Line2D at 0x1a2442a750>],\n",
       " 'medians': [<matplotlib.lines.Line2D at 0x1a244398d0>],\n",
       " 'fliers': [<matplotlib.lines.Line2D at 0x1a24439dd0>],\n",
       " 'means': []}"
      ]
     },
     "execution_count": 12,
     "metadata": {},
     "output_type": "execute_result"
    },
    {
     "data": {
      "image/png": "[encoded data removed]",
      "text/plain": [
       "<Figure size 432x288 with 1 Axes>"
      ]
     },
     "metadata": {
      "needs_background": "light"
     },
     "output_type": "display_data"
    }
   ],
   "source": [
    "plt.boxplot(df.Salaries,0, 'gD')"
   ]
  },
  {
   "cell_type": "code",
   "execution_count": 13,
   "metadata": {},
   "outputs": [
    {
     "data": {
      "text/plain": [
       "{'whiskers': [<matplotlib.lines.Line2D at 0x1a24501a50>,\n",
       "  <matplotlib.lines.Line2D at 0x1a2450ac10>],\n",
       " 'caps': [<matplotlib.lines.Line2D at 0x1a24378110>,\n",
       "  <matplotlib.lines.Line2D at 0x1a24510650>],\n",
       " 'boxes': [<matplotlib.lines.Line2D at 0x1a24501a10>],\n",
       " 'medians': [<matplotlib.lines.Line2D at 0x1a24510b90>],\n",
       " 'fliers': [<matplotlib.lines.Line2D at 0x1a2450ac90>],\n",
       " 'means': []}"
      ]
     },
     "execution_count": 13,
     "metadata": {},
     "output_type": "execute_result"
    },
    {
     "data": {
      "image/png": "[encoded data removed]",
      "text/plain": [
       "<Figure size 432x288 with 1 Axes>"
      ]
     },
     "metadata": {
      "needs_background": "light"
     },
     "output_type": "display_data"
    }
   ],
   "source": [
    "plt.boxplot(df.Salaries,0, 'rs', 0, 0.75)"
   ]
  },
  {
   "cell_type": "code",
   "execution_count": 14,
   "metadata": {},
   "outputs": [
    {
     "data": {
      "text/plain": [
       "{'whiskers': [<matplotlib.lines.Line2D at 0x1a245eb910>,\n",
       "  <matplotlib.lines.Line2D at 0x1a245f4ad0>],\n",
       " 'caps': [<matplotlib.lines.Line2D at 0x1a245f4fd0>,\n",
       "  <matplotlib.lines.Line2D at 0x1a245fc510>],\n",
       " 'boxes': [<matplotlib.lines.Line2D at 0x1a245eb8d0>],\n",
       " 'medians': [<matplotlib.lines.Line2D at 0x1a245fca50>],\n",
       " 'fliers': [<matplotlib.lines.Line2D at 0x1a245fcf50>],\n",
       " 'means': []}"
      ]
     },
     "execution_count": 14,
     "metadata": {},
     "output_type": "execute_result"
    },
    {
     "data": {
      "image/png": "[encoded data removed]",
      "text/plain": [
       "<Figure size 432x288 with 1 Axes>"
      ]
     },
     "metadata": {
      "needs_background": "light"
     },
     "output_type": "display_data"
    }
   ],
   "source": [
    "plt.boxplot(df.Salaries,0, 'bo', 0, 0.75)"
   ]
  },
  {
   "cell_type": "code",
   "execution_count": 17,
   "metadata": {},
   "outputs": [
    {
     "data": {
      "text/plain": [
       "{'whiskers': [<matplotlib.lines.Line2D at 0x1a249c9f50>,\n",
       "  <matplotlib.lines.Line2D at 0x1a249ad990>],\n",
       " 'caps': [<matplotlib.lines.Line2D at 0x1a249d9610>,\n",
       "  <matplotlib.lines.Line2D at 0x1a249d9b10>],\n",
       " 'boxes': [<matplotlib.lines.Line2D at 0x1a249c9ed0>],\n",
       " 'medians': [<matplotlib.lines.Line2D at 0x1a249d6c50>],\n",
       " 'fliers': [<matplotlib.lines.Line2D at 0x1a24a4f590>],\n",
       " 'means': []}"
      ]
     },
     "execution_count": 17,
     "metadata": {},
     "output_type": "execute_result"
    },
    {
     "data": {
      "image/png": "[encoded data removed]",
      "text/plain": [
       "<Figure size 432x288 with 1 Axes>"
      ]
     },
     "metadata": {
      "needs_background": "light"
     },
     "output_type": "display_data"
    }
   ],
   "source": [
    "plt.boxplot(df.Salaries,0,'rs', 0.75)"
   ]
  },
  {
   "cell_type": "code",
   "execution_count": 26,
   "metadata": {},
   "outputs": [
    {
     "data": {
      "text/plain": [
       "{'whiskers': [<matplotlib.lines.Line2D at 0x1a250a5910>,\n",
       "  <matplotlib.lines.Line2D at 0x1a2511db10>],\n",
       " 'caps': [<matplotlib.lines.Line2D at 0x1a2508db90>,\n",
       "  <matplotlib.lines.Line2D at 0x1a25123550>],\n",
       " 'boxes': [<matplotlib.lines.Line2D at 0x1a250a58d0>],\n",
       " 'medians': [<matplotlib.lines.Line2D at 0x1a25123a90>],\n",
       " 'fliers': [<matplotlib.lines.Line2D at 0x1a25123f90>],\n",
       " 'means': []}"
      ]
     },
     "execution_count": 26,
     "metadata": {},
     "output_type": "execute_result"
    },
    {
     "data": {
      "image/png": "[encoded data removed]",
      "text/plain": [
       "<Figure size 432x288 with 1 Axes>"
      ]
     },
     "metadata": {
      "needs_background": "light"
     },
     "output_type": "display_data"
    }
   ],
   "source": [
    "plt.boxplot(df.Salaries,0.75,'go')"
   ]
  },
  {
   "cell_type": "code",
   "execution_count": null,
   "metadata": {},
   "outputs": [],
   "source": []
  }
 ],
 "metadata": {
  "kernelspec": {
   "display_name": "Python 3",
   "language": "python",
   "name": "python3"
  },
  "language_info": {
   "codemirror_mode": {
    "name": "ipython",
    "version": 3
   },
   "file_extension": ".py",
   "mimetype": "text/x-python",
   "name": "python",
   "nbconvert_exporter": "python",
   "pygments_lexer": "ipython3",
   "version": "3.7.4"
  }
 },
 "nbformat": 4,
 "nbformat_minor": 2
}
